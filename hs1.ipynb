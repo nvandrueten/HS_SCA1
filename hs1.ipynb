{
 "cells": [
  {
   "cell_type": "code",
   "execution_count": 157,
   "metadata": {},
   "outputs": [],
   "source": [
    "from scipy.io import loadmat\n",
    "from scipy import signal\n",
    "import numpy as np\n",
    "import json\n",
    "import matplotlib.pyplot as plt\n",
    "#!pip install tqdm\n",
    "from tqdm import tqdm_notebook as tqdm #if running in a notebook\n",
    "#from tqdm import tqdm as tqdm #if not running in a notebook\n",
    "from scipy.stats.stats import pearsonr\n",
    "\n",
    "# Made by:\n",
    "# Name\t\t\tStudentnumber\n",
    "# Niels van den Hork s4572602\n",
    "# Niels van Drueten\ts4496604"
   ]
  },
  {
   "cell_type": "code",
   "execution_count": 3,
   "metadata": {},
   "outputs": [],
   "source": [
    "# Boolean to load correlation from file.\n",
    "get_correlation_from_file = False\n",
    "\n",
    "# Filename to store/load correlation matrix.\n",
    "filename = \"correlations.json\"\n",
    "\n",
    "\n",
    "# PRESENT Cipher SBox\n",
    "SBox = [0xC, 0x5, 0x6, 0xB, 0x9, 0x0, 0xA, 0xD, 0x3, 0xE, 0xF, 0x8, 0x4, 0x7, 0x1, 0x2]\n"
   ]
  },
  {
   "cell_type": "code",
   "execution_count": 32,
   "metadata": {},
   "outputs": [],
   "source": [
    "# Function f is the intermediate result,\n",
    "# where _in is the known non-constant data value\n",
    "# and k is a small part of the key.\n",
    "def f(i, k):\n",
    "\treturn SBox[i ^ k]\n",
    "\n",
    "# Returns the Hamming Weight of val.\n",
    "def hw(val):\n",
    "\treturn bin(val).count(\"1\")\n"
   ]
  },
  {
   "cell_type": "code",
   "execution_count": 5,
   "metadata": {},
   "outputs": [],
   "source": [
    "# Returns a Value-Prediction Matrix of size [no_inputs x no_keys]\n",
    "# Input _in: Input matrix variable of size [no_inputs]\n",
    "def construct_val_pred_matrix(_in, key_len):\n",
    "\toutput = np.zeros((len(_in), 2**key_len), dtype=\"uint8\")\n",
    "\tfor i in range(len(_in)):\n",
    "\t\tin_elem = _in[i][0]\n",
    "\t\tfor k in range(2**key_len):\n",
    "\t\t\tval = f(in_elem,k)\n",
    "\t\t\toutput[i][k] = val\n",
    "\treturn output\t\n",
    "\n",
    "# Returns a Power-Prediction Matrix of size [no_inputs x no_keys]\n",
    "# Input _in: Value-Prediction Matrix of size [no_inputs x no_keys]\n",
    "def construct_pow_pred_matrix(val_pred_matrix, key_len):\n",
    "\toutput = np.zeros((len(_in), 2**key_len), dtype=\"uint8\")\n",
    "\tfor i in range(len(_in)):\n",
    "\t\tin_elem = _in[i][0]\n",
    "\t\tfor k in range(2**key_len):\n",
    "\t\t\tval = val_pred_matrix[i][k]\n",
    "\t\t\toutput[i][k] = hw(val)\n",
    "\treturn output"
   ]
  },
  {
   "cell_type": "code",
   "execution_count": 155,
   "metadata": {},
   "outputs": [],
   "source": [
    "# Uses the correlate function of the scipy io library,\n",
    "# that cross-correlates two matrices.\n",
    "\n",
    "\n",
    "\n",
    "def correlate_m(matrix1, matrix2):\n",
    "    print(matrix1.shape,matrix2.shape)\n",
    "   \n",
    "    cols_matrix1 = matrix1.shape[1]\n",
    "    cols_matrix2 = matrix2.shape[1]\n",
    "    \n",
    "    vmax = -1e10 #max correlation value\n",
    "    cmax = (-1,-1) # coordinate indices with max correlation\n",
    "    \n",
    "    \n",
    "    result = np.zeros((cols_matrix1,cols_matrix2)) # sneller, want geen appends\n",
    "    for i in tqdm(range(cols_matrix1)):\n",
    "        for j in range(cols_matrix2):\n",
    "            #result[i][j] = signal.correlate(matrix1[:,[i]], matrix2[:,[j]])[0] # dit is correlation als in convolution, niet pearson correlation\n",
    "            #print(result[i][j])\n",
    "            result[i][j] = pearsonr(matrix1[:,[i]], matrix2[:,[j]])[1][0] #[0][0] returns p value\n",
    "            #result[i][j] = numpy.corrcoef(matrix1[:,[i]], matrix2[:,[j]])[0, 1]\n",
    "            \n",
    "    return result\n",
    "\n"
   ]
  },
  {
   "cell_type": "code",
   "execution_count": 68,
   "metadata": {},
   "outputs": [
    {
     "ename": "ValueError",
     "evalue": "The truth value of an array with more than one element is ambiguous. Use a.any() or a.all()",
     "output_type": "error",
     "traceback": [
      "\u001b[1;31m---------------------------------------------------------------------------\u001b[0m",
      "\u001b[1;31mValueError\u001b[0m                                Traceback (most recent call last)",
      "\u001b[1;32m<ipython-input-68-23a807daaa8f>\u001b[0m in \u001b[0;36m<module>\u001b[1;34m\u001b[0m\n\u001b[1;32m----> 1\u001b[1;33m \u001b[0mmax\u001b[0m\u001b[1;33m(\u001b[0m\u001b[0mresult\u001b[0m\u001b[1;33m)\u001b[0m\u001b[1;33m\u001b[0m\u001b[1;33m\u001b[0m\u001b[0m\n\u001b[0m",
      "\u001b[1;31mValueError\u001b[0m: The truth value of an array with more than one element is ambiguous. Use a.any() or a.all()"
     ]
    }
   ],
   "source": []
  },
  {
   "cell_type": "code",
   "execution_count": 7,
   "metadata": {},
   "outputs": [],
   "source": [
    "# Storing the correlation matrix in json.\n",
    "def store_matrix(matrix):\n",
    "\t#matrix_list = matrix.tolist()\n",
    "\tjson_string = \"\"\n",
    "\tfor element in matrix:\n",
    "\t\tjson_string += json.dumps(element.tolist())\n",
    "\tprint(json_string)\n",
    "\twith open(filename, 'w') as outfile:\n",
    "\t\tjson.dump(json_string, outfile)\n",
    "\tprint(\"Correlation matrix stored in: {}\".format(filename))\n",
    "\n",
    "\n",
    "def load_matrix():\n",
    "\treturn []\n",
    "\n",
    "def sort_correlation(correlation):\n",
    "\treturn list(sorted(correlation,key= lambda x: x[0][0]))\n"
   ]
  },
  {
   "cell_type": "code",
   "execution_count": 27,
   "metadata": {},
   "outputs": [
    {
     "name": "stdout",
     "output_type": "stream",
     "text": [
      "Input: \n",
      " [[0]\n",
      " [8]\n",
      " [9]\n",
      " ...\n",
      " [2]\n",
      " [2]\n",
      " [4]] (14900, 1)\n"
     ]
    }
   ],
   "source": [
    "# Opens \"in.mat\" file.\n",
    "in_file = loadmat('in.mat')\n",
    "_in = in_file['in'] #contains 14900 4bit inputs\n",
    "\n",
    "print(f\"Input: \\n {_in} {_in.shape}\")"
   ]
  },
  {
   "cell_type": "code",
   "execution_count": 133,
   "metadata": {},
   "outputs": [
    {
     "name": "stdout",
     "output_type": "stream",
     "text": [
      "Value prediction matrix: \n",
      " [[12  5  6 ...  7  1  2]\n",
      " [ 3 14 15 ...  0 10 13]\n",
      " [14  3  8 ...  9 13 10]\n",
      " ...\n",
      " [ 6 11 12 ...  2  4  7]\n",
      " [ 6 11 12 ...  2  4  7]\n",
      " [ 9  0 10 ... 14 15  8]] (14900, 16)\n",
      "Power prediction matrix: \n",
      " [[2 2 2 ... 3 1 1]\n",
      " [2 3 4 ... 0 2 3]\n",
      " [3 2 1 ... 2 3 2]\n",
      " ...\n",
      " [2 3 2 ... 1 1 3]\n",
      " [2 3 2 ... 1 1 3]\n",
      " [2 0 2 ... 3 4 1]] (14900, 16)\n"
     ]
    },
    {
     "data": {
      "text/plain": [
       "[<matplotlib.lines.Line2D at 0x21d34fcdac8>]"
      ]
     },
     "execution_count": 133,
     "metadata": {},
     "output_type": "execute_result"
    },
    {
     "data": {
      "image/png": "[encoded data removed]",
      "text/plain": [
       "<Figure size 432x288 with 1 Axes>"
      ]
     },
     "metadata": {
      "needs_background": "light"
     },
     "output_type": "display_data"
    }
   ],
   "source": [
    "# Computing value prediction matrix\n",
    "val_pred_matrix = construct_val_pred_matrix(_in, 4)\n",
    "print(f\"Value prediction matrix: \\n {val_pred_matrix} {val_pred_matrix.shape}\")\n",
    "\n",
    "\n",
    "# Computing power prediction matrix\n",
    "pow_pred_matrix = construct_pow_pred_matrix(val_pred_matrix, 4)\n",
    "print(f\"Power prediction matrix: \\n {pow_pred_matrix} {pow_pred_matrix.shape}\")\n",
    "\n",
    "plt.plot(pow_pred_matrix[:,0])"
   ]
  },
  {
   "cell_type": "code",
   "execution_count": 25,
   "metadata": {},
   "outputs": [
    {
     "name": "stdout",
     "output_type": "stream",
     "text": [
      "Traces matrix: \n",
      " [[-15.       -22.         3.       ...   1.         9.       -26.      ]\n",
      " [ -2.        -2.         1.       ...  -1.        -1.       -22.      ]\n",
      " [  0.         0.         0.       ...  18.        25.       -26.      ]\n",
      " ...\n",
      " [  2.5      -17.         9.       ...  -2.8       -5.        -4.      ]\n",
      " [ 18.        18.        18.       ...   2.5        3.5      -23.      ]\n",
      " [ -3.       -28.666666 -14.5      ...  17.        17.       -23.      ]] (14900, 6990)\n"
     ]
    },
    {
     "data": {
      "text/plain": [
       "[<matplotlib.lines.Line2D at 0x21d24489898>]"
      ]
     },
     "execution_count": 25,
     "metadata": {},
     "output_type": "execute_result"
    },
    {
     "data": {
      "image/png": "[encoded data removed]",
      "text/plain": [
       "<Figure size 432x288 with 1 Axes>"
      ]
     },
     "metadata": {
      "needs_background": "light"
     },
     "output_type": "display_data"
    }
   ],
   "source": [
    "# Opens \"traces.mat\" file.\n",
    "trace_file = loadmat('traces.mat')\n",
    "_traces = trace_file['traces']\n",
    "print(f\"Traces matrix: \\n {_traces} {_traces.shape}\")\n",
    "\n",
    "plt.plot(_traces[0])"
   ]
  },
  {
   "cell_type": "code",
   "execution_count": 156,
   "metadata": {},
   "outputs": [
    {
     "name": "stdout",
     "output_type": "stream",
     "text": [
      "Computing correlation matrix.\n",
      "(14900, 16) (14900, 6990)\n"
     ]
    },
    {
     "data": {
      "application/vnd.jupyter.widget-view+json": {
       "model_id": "8ec7bfb2afe246168616727e10bb8238",
       "version_major": 2,
       "version_minor": 0
      },
      "text/plain": [
       "HBox(children=(IntProgress(value=0, max=16), HTML(value='')))"
      ]
     },
     "metadata": {},
     "output_type": "display_data"
    },
    {
     "name": "stdout",
     "output_type": "stream",
     "text": [
      "(16, 6990)\n"
     ]
    }
   ],
   "source": [
    "# Computing correlation matrix\n",
    "correlations = []\n",
    "if get_correlation_from_file:\n",
    "    print(\"Getting correlation matrix from file.\");\n",
    "    correlations = load_matrix()\n",
    "else:\n",
    "    print(\"Computing correlation matrix.\");\n",
    "    result = correlate_m(pow_pred_matrix, _traces)\n",
    "    print(result.shape)\n",
    "    \n",
    "    \n",
    "   \n",
    "    # Sort correlation matrix\n",
    "    #sorted_correlations = sort_correlation(correlations)\n",
    "    #print(\"sorted: {}\".format(sorted_correlations))\n",
    "\n",
    "    # Storing correlations\t\n",
    "    #store_matrix(sorted_correlations)"
   ]
  },
  {
   "cell_type": "code",
   "execution_count": 158,
   "metadata": {},
   "outputs": [
    {
     "data": {
      "image/png": "[encoded data removed]",
      "text/plain": [
       "<Figure size 432x288 with 1 Axes>"
      ]
     },
     "metadata": {
      "needs_background": "light"
     },
     "output_type": "display_data"
    }
   ],
   "source": [
    "for row in result:\n",
    "    plt.plot(row)"
   ]
  },
  {
   "cell_type": "code",
   "execution_count": 164,
   "metadata": {},
   "outputs": [
    {
     "name": "stdout",
     "output_type": "stream",
     "text": [
      "[1.05016724e-05 1.83417801e-05 1.22146682e-04 ... 9.98959154e-01\n",
      " 9.99007820e-01 9.99020420e-01]\n"
     ]
    },
    {
     "data": {
      "image/png": "[encoded data removed]",
      "text/plain": [
       "<Figure size 432x288 with 1 Axes>"
      ]
     },
     "metadata": {
      "needs_background": "light"
     },
     "output_type": "display_data"
    }
   ],
   "source": [
    "for row in result:\n",
    "    row = row.sort()\n",
    "print(result[0][:-2])\n",
    "for row in result:\n",
    "    plt.plot(row)"
   ]
  },
  {
   "cell_type": "code",
   "execution_count": null,
   "metadata": {},
   "outputs": [],
   "source": []
  },
  {
   "cell_type": "code",
   "execution_count": 160,
   "metadata": {},
   "outputs": [
    {
     "data": {
      "text/plain": [
       "(array([746., 756., 688., 705., 727., 675., 709., 660., 652., 672.]),\n",
       " array([1.05016724e-05, 1.00003240e-01, 1.99995979e-01, 2.99988717e-01,\n",
       "        3.99981456e-01, 4.99974195e-01, 5.99966933e-01, 6.99959672e-01,\n",
       "        7.99952410e-01, 8.99945149e-01, 9.99937887e-01]),\n",
       " <a list of 10 Patch objects>)"
      ]
     },
     "execution_count": 160,
     "metadata": {},
     "output_type": "execute_result"
    },
    {
     "data": {
      "image/png": "[encoded data removed]",
      "text/plain": [
       "<Figure size 432x288 with 1 Axes>"
      ]
     },
     "metadata": {
      "needs_background": "light"
     },
     "output_type": "display_data"
    }
   ],
   "source": [
    "plt.hist(result[0])"
   ]
  },
  {
   "cell_type": "code",
   "execution_count": null,
   "metadata": {},
   "outputs": [],
   "source": []
  }
 ],
 "metadata": {
  "kernelspec": {
   "display_name": "Python 3",
   "language": "python",
   "name": "python3"
  },
  "language_info": {
   "codemirror_mode": {
    "name": "ipython",
    "version": 3
   },
   "file_extension": ".py",
   "mimetype": "text/x-python",
   "name": "python",
   "nbconvert_exporter": "python",
   "pygments_lexer": "ipython3",
   "version": "3.7.2"
  }
 },
 "nbformat": 4,
 "nbformat_minor": 2
}
